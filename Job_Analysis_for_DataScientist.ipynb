{
 "cells": [
  {
   "cell_type": "markdown",
   "metadata": {},
   "source": [
    "<h2>Data Ssientist Job Market Analysis In India</h2>"
   ]
  },
  {
   "cell_type": "code",
   "execution_count": 1,
   "metadata": {},
   "outputs": [],
   "source": [
    "import requests\n",
    "import bs4\n",
    "from bs4 import BeautifulSoup"
   ]
  },
  {
   "cell_type": "code",
   "execution_count": 2,
   "metadata": {},
   "outputs": [],
   "source": [
    "from time import sleep"
   ]
  },
  {
   "cell_type": "code",
   "execution_count": 3,
   "metadata": {},
   "outputs": [],
   "source": [
    "import pandas as pd\n",
    "import numpy as np"
   ]
  },
  {
   "cell_type": "code",
   "execution_count": 4,
   "metadata": {},
   "outputs": [
    {
     "data": {
      "text/plain": [
       "7"
      ]
     },
     "execution_count": 4,
     "metadata": {},
     "output_type": "execute_result"
    }
   ],
   "source": [
    "indeed_cities = ['bangalore', 'mumbai', 'hyderabad', 'chennai', 'pune', \n",
    "                 'delhi', 'kolkata']\n",
    "len(indeed_cities)"
   ]
  },
  {
   "cell_type": "code",
   "execution_count": 5,
   "metadata": {},
   "outputs": [],
   "source": [
    "max_results_per_city = 1000\n",
    "\n",
    "results = []\n",
    "\n",
    "for city in indeed_cities:\n",
    "    for start in range(0, max_results_per_city, 50):\n",
    "        url = \"https://www.indeed.co.in/jobs?q=Data+Scientist&l=\" + city + \"&limit=50&radius=25&start=\" + str(start)\n",
    "        html = requests.get(url)\n",
    "        soup = BeautifulSoup(html.text, 'html.parser')\n",
    "        for result in soup.find_all('div', {'class':' row result'}):\n",
    "            results.append(result)\n",
    "        sleep(1)"
   ]
  },
  {
   "cell_type": "code",
   "execution_count": 9,
   "metadata": {},
   "outputs": [],
   "source": [
    "\"\"\"import sys\n",
    "sys.setrecursionlimit(5000)\"\"\""
   ]
  },
  {
   "cell_type": "code",
   "execution_count": 11,
   "metadata": {},
   "outputs": [
    {
     "data": {
      "text/plain": [
       "'import pickle\\ncity_results = open(\"indeed_search_result.pickle\", \\'wb\\')\\npickle.dump(results, city_results)\\ncity_results.close()'"
      ]
     },
     "execution_count": 11,
     "metadata": {},
     "output_type": "execute_result"
    }
   ],
   "source": [
    "\"\"\"import pickle\n",
    "city_results = open(\"indeed_search_result.pickle\", 'wb')\n",
    "pickle.dump(results, city_results)\n",
    "city_results.close()\"\"\""
   ]
  },
  {
   "cell_type": "code",
   "execution_count": 12,
   "metadata": {},
   "outputs": [
    {
     "data": {
      "text/plain": [
       "6343"
      ]
     },
     "execution_count": 12,
     "metadata": {},
     "output_type": "execute_result"
    }
   ],
   "source": [
    "len(results)"
   ]
  },
  {
   "cell_type": "code",
   "execution_count": 13,
   "metadata": {},
   "outputs": [],
   "source": [
    "def get_loc(result):\n",
    "    try:\n",
    "        return result.find('span', {'class': 'location'}).text\n",
    "    except:\n",
    "        return np.nan"
   ]
  },
  {
   "cell_type": "code",
   "execution_count": 14,
   "metadata": {},
   "outputs": [],
   "source": [
    "def get_comp(result):\n",
    "    try:\n",
    "        return result.find('span', {'class': 'company'}).text\n",
    "    except:\n",
    "        return np.nan"
   ]
  },
  {
   "cell_type": "code",
   "execution_count": 15,
   "metadata": {},
   "outputs": [],
   "source": [
    "def get_job(result):\n",
    "    try:\n",
    "        return result.find('a', {'data-tn-element': 'jobTitle' }).text\n",
    "    except:\n",
    "        return np.nan"
   ]
  },
  {
   "cell_type": "code",
   "execution_count": 16,
   "metadata": {},
   "outputs": [],
   "source": [
    "def get_sal(result):\n",
    "    try:\n",
    "        return result.find('span', {'class': 'no-wrap'}).text\n",
    "    except:\n",
    "        return np.nan"
   ]
  },
  {
   "cell_type": "code",
   "execution_count": 17,
   "metadata": {},
   "outputs": [],
   "source": [
    "def get_desc(result):\n",
    "    try:\n",
    "        return result.find('span', {'class': 'summary'}).text\n",
    "    except:\n",
    "        return np.nan"
   ]
  },
  {
   "cell_type": "code",
   "execution_count": 18,
   "metadata": {},
   "outputs": [],
   "source": [
    "jobs0 = pd.DataFrame(columns=['location', 'title', 'company', 'salary', 'summary'])"
   ]
  },
  {
   "cell_type": "code",
   "execution_count": 19,
   "metadata": {},
   "outputs": [
    {
     "data": {
      "text/html": [
       "<div>\n",
       "<style scoped>\n",
       "    .dataframe tbody tr th:only-of-type {\n",
       "        vertical-align: middle;\n",
       "    }\n",
       "\n",
       "    .dataframe tbody tr th {\n",
       "        vertical-align: top;\n",
       "    }\n",
       "\n",
       "    .dataframe thead th {\n",
       "        text-align: right;\n",
       "    }\n",
       "</style>\n",
       "<table border=\"1\" class=\"dataframe\">\n",
       "  <thead>\n",
       "    <tr style=\"text-align: right;\">\n",
       "      <th></th>\n",
       "      <th>location</th>\n",
       "      <th>title</th>\n",
       "      <th>company</th>\n",
       "      <th>salary</th>\n",
       "      <th>summary</th>\n",
       "    </tr>\n",
       "  </thead>\n",
       "  <tbody>\n",
       "    <tr>\n",
       "      <th>0</th>\n",
       "      <td>Bengaluru, Karnataka</td>\n",
       "      <td>Data Scientist</td>\n",
       "      <td>\\n    Tricog Health Services Private Limited</td>\n",
       "      <td>\\n                ₹6,00,000 - ₹18,00,000 a year</td>\n",
       "      <td>\\n            We're currently looking for peop...</td>\n",
       "    </tr>\n",
       "    <tr>\n",
       "      <th>1</th>\n",
       "      <td>Bengaluru, Karnataka</td>\n",
       "      <td>Data Scientist (Entry-Level)</td>\n",
       "      <td>\\n    Clutch.ai</td>\n",
       "      <td>NaN</td>\n",
       "      <td>\\n            Great big data scientists have d...</td>\n",
       "    </tr>\n",
       "    <tr>\n",
       "      <th>2</th>\n",
       "      <td>Bengaluru, Karnataka</td>\n",
       "      <td>Data Scientist</td>\n",
       "      <td>\\n\\n    TCS</td>\n",
       "      <td>NaN</td>\n",
       "      <td>\\n             Dimensionality Reduction, Neur...</td>\n",
       "    </tr>\n",
       "    <tr>\n",
       "      <th>3</th>\n",
       "      <td>Bengaluru, Karnataka</td>\n",
       "      <td>Data Scientist</td>\n",
       "      <td>\\n    Innohabit Technologies Pvt. Ltd</td>\n",
       "      <td>\\n                ₹3,00,000 - ₹4,50,000 a year</td>\n",
       "      <td>\\n            Experience in Machine Learning /...</td>\n",
       "    </tr>\n",
       "    <tr>\n",
       "      <th>4</th>\n",
       "      <td>Bengaluru, Karnataka</td>\n",
       "      <td>Data Scientist</td>\n",
       "      <td>\\n    StraVis IT Solutions Pvt. Ltd.</td>\n",
       "      <td>\\n                ₹4,00,000 - ₹9,00,000 a year</td>\n",
       "      <td>\\n            We are looking for candidates wh...</td>\n",
       "    </tr>\n",
       "  </tbody>\n",
       "</table>\n",
       "</div>"
      ],
      "text/plain": [
       "               location                         title  \\\n",
       "0  Bengaluru, Karnataka                Data Scientist   \n",
       "1  Bengaluru, Karnataka  Data Scientist (Entry-Level)   \n",
       "2  Bengaluru, Karnataka                Data Scientist   \n",
       "3  Bengaluru, Karnataka                Data Scientist   \n",
       "4  Bengaluru, Karnataka                Data Scientist   \n",
       "\n",
       "                                        company  \\\n",
       "0  \\n    Tricog Health Services Private Limited   \n",
       "1                               \\n    Clutch.ai   \n",
       "2                                   \\n\\n    TCS   \n",
       "3         \\n    Innohabit Technologies Pvt. Ltd   \n",
       "4          \\n    StraVis IT Solutions Pvt. Ltd.   \n",
       "\n",
       "                                            salary  \\\n",
       "0  \\n                ₹6,00,000 - ₹18,00,000 a year   \n",
       "1                                              NaN   \n",
       "2                                              NaN   \n",
       "3   \\n                ₹3,00,000 - ₹4,50,000 a year   \n",
       "4   \\n                ₹4,00,000 - ₹9,00,000 a year   \n",
       "\n",
       "                                             summary  \n",
       "0  \\n            We're currently looking for peop...  \n",
       "1  \\n            Great big data scientists have d...  \n",
       "2  \\n             Dimensionality Reduction, Neur...  \n",
       "3  \\n            Experience in Machine Learning /...  \n",
       "4  \\n            We are looking for candidates wh...  "
      ]
     },
     "execution_count": 19,
     "metadata": {},
     "output_type": "execute_result"
    }
   ],
   "source": [
    "for entry in results:\n",
    "    location = get_loc(entry)\n",
    "    title = get_job(entry)\n",
    "    #print(title)\n",
    "    company = get_comp(entry)\n",
    "    #print(company)\n",
    "    salary = get_sal(entry)\n",
    "    desc = get_desc(entry)\n",
    "    #print(jobs0.loc[len(jobs0)])\n",
    "    \n",
    "    jobs0.loc[len(jobs0)] = [location, title, company, salary, desc]\n",
    "jobs0.head()"
   ]
  },
  {
   "cell_type": "code",
   "execution_count": 20,
   "metadata": {},
   "outputs": [],
   "source": [
    "#replacing the \\n\n",
    "jobs0 = jobs0.replace('\\n', '', regex=True)"
   ]
  },
  {
   "cell_type": "code",
   "execution_count": 21,
   "metadata": {},
   "outputs": [
    {
     "data": {
      "text/html": [
       "<div>\n",
       "<style scoped>\n",
       "    .dataframe tbody tr th:only-of-type {\n",
       "        vertical-align: middle;\n",
       "    }\n",
       "\n",
       "    .dataframe tbody tr th {\n",
       "        vertical-align: top;\n",
       "    }\n",
       "\n",
       "    .dataframe thead th {\n",
       "        text-align: right;\n",
       "    }\n",
       "</style>\n",
       "<table border=\"1\" class=\"dataframe\">\n",
       "  <thead>\n",
       "    <tr style=\"text-align: right;\">\n",
       "      <th></th>\n",
       "      <th>location</th>\n",
       "      <th>title</th>\n",
       "      <th>company</th>\n",
       "      <th>salary</th>\n",
       "      <th>summary</th>\n",
       "    </tr>\n",
       "  </thead>\n",
       "  <tbody>\n",
       "    <tr>\n",
       "      <th>0</th>\n",
       "      <td>Bengaluru, Karnataka</td>\n",
       "      <td>Data Scientist</td>\n",
       "      <td>Tricog Health Services Private Limited</td>\n",
       "      <td>₹6,00,000 - ₹18,00,000 a year</td>\n",
       "      <td>We're currently looking for people...</td>\n",
       "    </tr>\n",
       "    <tr>\n",
       "      <th>1</th>\n",
       "      <td>Bengaluru, Karnataka</td>\n",
       "      <td>Data Scientist (Entry-Level)</td>\n",
       "      <td>Clutch.ai</td>\n",
       "      <td>NaN</td>\n",
       "      <td>Great big data scientists have dif...</td>\n",
       "    </tr>\n",
       "    <tr>\n",
       "      <th>2</th>\n",
       "      <td>Bengaluru, Karnataka</td>\n",
       "      <td>Data Scientist</td>\n",
       "      <td>TCS</td>\n",
       "      <td>NaN</td>\n",
       "      <td> Dimensionality Reduction, Neural...</td>\n",
       "    </tr>\n",
       "    <tr>\n",
       "      <th>3</th>\n",
       "      <td>Bengaluru, Karnataka</td>\n",
       "      <td>Data Scientist</td>\n",
       "      <td>Innohabit Technologies Pvt. Ltd</td>\n",
       "      <td>₹3,00,000 - ₹4,50,000 a year</td>\n",
       "      <td>Experience in Machine Learning / D...</td>\n",
       "    </tr>\n",
       "    <tr>\n",
       "      <th>4</th>\n",
       "      <td>Bengaluru, Karnataka</td>\n",
       "      <td>Data Scientist</td>\n",
       "      <td>StraVis IT Solutions Pvt. Ltd.</td>\n",
       "      <td>₹4,00,000 - ₹9,00,000 a year</td>\n",
       "      <td>We are looking for candidates who ...</td>\n",
       "    </tr>\n",
       "  </tbody>\n",
       "</table>\n",
       "</div>"
      ],
      "text/plain": [
       "               location                         title  \\\n",
       "0  Bengaluru, Karnataka                Data Scientist   \n",
       "1  Bengaluru, Karnataka  Data Scientist (Entry-Level)   \n",
       "2  Bengaluru, Karnataka                Data Scientist   \n",
       "3  Bengaluru, Karnataka                Data Scientist   \n",
       "4  Bengaluru, Karnataka                Data Scientist   \n",
       "\n",
       "                                      company  \\\n",
       "0      Tricog Health Services Private Limited   \n",
       "1                                   Clutch.ai   \n",
       "2                                         TCS   \n",
       "3             Innohabit Technologies Pvt. Ltd   \n",
       "4              StraVis IT Solutions Pvt. Ltd.   \n",
       "\n",
       "                                          salary  \\\n",
       "0                  ₹6,00,000 - ₹18,00,000 a year   \n",
       "1                                            NaN   \n",
       "2                                            NaN   \n",
       "3                   ₹3,00,000 - ₹4,50,000 a year   \n",
       "4                   ₹4,00,000 - ₹9,00,000 a year   \n",
       "\n",
       "                                             summary  \n",
       "0              We're currently looking for people...  \n",
       "1              Great big data scientists have dif...  \n",
       "2               Dimensionality Reduction, Neural...  \n",
       "3              Experience in Machine Learning / D...  \n",
       "4              We are looking for candidates who ...  "
      ]
     },
     "execution_count": 21,
     "metadata": {},
     "output_type": "execute_result"
    }
   ],
   "source": [
    "jobs0.head()"
   ]
  },
  {
   "cell_type": "code",
   "execution_count": 22,
   "metadata": {},
   "outputs": [
    {
     "data": {
      "text/plain": [
       "(6343, 5)"
      ]
     },
     "execution_count": 22,
     "metadata": {},
     "output_type": "execute_result"
    }
   ],
   "source": [
    "jobs0.shape"
   ]
  },
  {
   "cell_type": "code",
   "execution_count": 23,
   "metadata": {},
   "outputs": [
    {
     "data": {
      "text/plain": [
       "location       0\n",
       "title          0\n",
       "company        0\n",
       "salary      5684\n",
       "summary        0\n",
       "dtype: int64"
      ]
     },
     "execution_count": 23,
     "metadata": {},
     "output_type": "execute_result"
    }
   ],
   "source": [
    "jobs0.isnull().sum()"
   ]
  },
  {
   "cell_type": "code",
   "execution_count": 24,
   "metadata": {},
   "outputs": [
    {
     "name": "stdout",
     "output_type": "stream",
     "text": [
      "company      object\n",
      "job_count     int64\n",
      "dtype: object\n"
     ]
    },
    {
     "data": {
      "text/html": [
       "<div>\n",
       "<style scoped>\n",
       "    .dataframe tbody tr th:only-of-type {\n",
       "        vertical-align: middle;\n",
       "    }\n",
       "\n",
       "    .dataframe tbody tr th {\n",
       "        vertical-align: top;\n",
       "    }\n",
       "\n",
       "    .dataframe thead th {\n",
       "        text-align: right;\n",
       "    }\n",
       "</style>\n",
       "<table border=\"1\" class=\"dataframe\">\n",
       "  <thead>\n",
       "    <tr style=\"text-align: right;\">\n",
       "      <th></th>\n",
       "      <th>company</th>\n",
       "      <th>job_count</th>\n",
       "    </tr>\n",
       "  </thead>\n",
       "  <tbody>\n",
       "    <tr>\n",
       "      <th>0</th>\n",
       "      <td>Rinalytics Advisors</td>\n",
       "      <td>546</td>\n",
       "    </tr>\n",
       "    <tr>\n",
       "      <th>1</th>\n",
       "      <td>HUQUO CONSULTING PVT. LTD.</td>\n",
       "      <td>252</td>\n",
       "    </tr>\n",
       "    <tr>\n",
       "      <th>2</th>\n",
       "      <td>Michael Page</td>\n",
       "      <td>205</td>\n",
       "    </tr>\n",
       "    <tr>\n",
       "      <th>3</th>\n",
       "      <td>Adecco</td>\n",
       "      <td>157</td>\n",
       "    </tr>\n",
       "    <tr>\n",
       "      <th>4</th>\n",
       "      <td>Wipro LTD</td>\n",
       "      <td>154</td>\n",
       "    </tr>\n",
       "  </tbody>\n",
       "</table>\n",
       "</div>"
      ],
      "text/plain": [
       "                          company  job_count\n",
       "0             Rinalytics Advisors        546\n",
       "1      HUQUO CONSULTING PVT. LTD.        252\n",
       "2                    Michael Page        205\n",
       "3                          Adecco        157\n",
       "4                       Wipro LTD        154"
      ]
     },
     "execution_count": 24,
     "metadata": {},
     "output_type": "execute_result"
    }
   ],
   "source": [
    "#Total number of jobs listed as per company wise\n",
    "from collections import Counter\n",
    "company_job_list = Counter(jobs0.company)\n",
    "\n",
    "Total_jobs_company = pd.DataFrame.from_dict(company_job_list,  orient='index').reset_index()\n",
    "Total_jobs_company = Total_jobs_company.rename(columns={'index': 'company', 0:'job_count'})\n",
    "\n",
    "Total_jobs_company['job_count'] = Total_jobs_company['job_count'].astype('int')\n",
    "Total_jobs_company['company'] = Total_jobs_company['company'].astype('str')\n",
    "\n",
    "print(Total_jobs_company.dtypes)\n",
    "\n",
    "#sorting dataframe\n",
    "df = Total_jobs_company.sort_values(by='job_count', axis=0, ascending=False).reset_index(drop = True)\n",
    "df.head()"
   ]
  },
  {
   "cell_type": "markdown",
   "metadata": {},
   "source": [
    "<b>Converting object into CSV file</b>"
   ]
  },
  {
   "cell_type": "code",
   "execution_count": 25,
   "metadata": {},
   "outputs": [],
   "source": [
    "jobs0.to_csv('datascientist-job-results.csv', index=False, encoding='utf-8')"
   ]
  },
  {
   "cell_type": "code",
   "execution_count": 27,
   "metadata": {},
   "outputs": [],
   "source": [
    "#Reading CSV File\n",
    "df_result = pd.read_csv('datascientist-job-results.csv')"
   ]
  },
  {
   "cell_type": "code",
   "execution_count": 215,
   "metadata": {},
   "outputs": [
    {
     "data": {
      "image/png": "[encoded data removed]",
      "text/plain": [
       "<matplotlib.figure.Figure at 0x1a2500d6d8>"
      ]
     },
     "metadata": {},
     "output_type": "display_data"
    }
   ],
   "source": [
    "#Top 10 Companies listing out jobs\n",
    "import matplotlib.pyplot as plt\n",
    "import seaborn as sns\n",
    "\n",
    "x = df.company[:10]\n",
    "y = df.job_count[:10]\n",
    "\n",
    "plt.figure(figsize=(15,4))\n",
    "plot.bar(x,y, label=x)\n",
    "plt.title(\"Top 10 Jobs Listed Companies in indeed\")\n",
    "\n",
    "plt.legend()\n",
    "plt.show()\n",
    "\n"
   ]
  },
  {
   "cell_type": "markdown",
   "metadata": {},
   "source": [
    "<b>Trending Job Titles for Data Scientists</b>"
   ]
  },
  {
   "cell_type": "code",
   "execution_count": 56,
   "metadata": {},
   "outputs": [
    {
     "name": "stdout",
     "output_type": "stream",
     "text": [
      "title           object\n",
      "count_titles     int64\n",
      "dtype: object\n"
     ]
    },
    {
     "data": {
      "text/html": [
       "<div>\n",
       "<style scoped>\n",
       "    .dataframe tbody tr th:only-of-type {\n",
       "        vertical-align: middle;\n",
       "    }\n",
       "\n",
       "    .dataframe tbody tr th {\n",
       "        vertical-align: top;\n",
       "    }\n",
       "\n",
       "    .dataframe thead th {\n",
       "        text-align: right;\n",
       "    }\n",
       "</style>\n",
       "<table border=\"1\" class=\"dataframe\">\n",
       "  <thead>\n",
       "    <tr style=\"text-align: right;\">\n",
       "      <th></th>\n",
       "      <th>title</th>\n",
       "      <th>count_titles</th>\n",
       "    </tr>\n",
       "  </thead>\n",
       "  <tbody>\n",
       "    <tr>\n",
       "      <th>0</th>\n",
       "      <td>Data Analyst</td>\n",
       "      <td>300</td>\n",
       "    </tr>\n",
       "    <tr>\n",
       "      <th>1</th>\n",
       "      <td>Data Scientist</td>\n",
       "      <td>203</td>\n",
       "    </tr>\n",
       "    <tr>\n",
       "      <th>2</th>\n",
       "      <td>Project Lead Big Data Analytics</td>\n",
       "      <td>37</td>\n",
       "    </tr>\n",
       "    <tr>\n",
       "      <th>3</th>\n",
       "      <td>Business Development (Sales) Internship</td>\n",
       "      <td>35</td>\n",
       "    </tr>\n",
       "    <tr>\n",
       "      <th>4</th>\n",
       "      <td>Project Manager Big Data Analytics</td>\n",
       "      <td>35</td>\n",
       "    </tr>\n",
       "    <tr>\n",
       "      <th>5</th>\n",
       "      <td>Senior Software Engineer</td>\n",
       "      <td>35</td>\n",
       "    </tr>\n",
       "    <tr>\n",
       "      <th>6</th>\n",
       "      <td>Principal Consultant - Application Development</td>\n",
       "      <td>34</td>\n",
       "    </tr>\n",
       "    <tr>\n",
       "      <th>7</th>\n",
       "      <td>STATISTICAL PROGRAMMER (ADAM/TLF)</td>\n",
       "      <td>32</td>\n",
       "    </tr>\n",
       "    <tr>\n",
       "      <th>8</th>\n",
       "      <td>Database Architect</td>\n",
       "      <td>28</td>\n",
       "    </tr>\n",
       "    <tr>\n",
       "      <th>9</th>\n",
       "      <td>Senior Data Scientist</td>\n",
       "      <td>26</td>\n",
       "    </tr>\n",
       "    <tr>\n",
       "      <th>10</th>\n",
       "      <td>Data Engineer</td>\n",
       "      <td>24</td>\n",
       "    </tr>\n",
       "    <tr>\n",
       "      <th>11</th>\n",
       "      <td>Associate Consultant Analytics</td>\n",
       "      <td>24</td>\n",
       "    </tr>\n",
       "    <tr>\n",
       "      <th>12</th>\n",
       "      <td>Manager - Analytics</td>\n",
       "      <td>23</td>\n",
       "    </tr>\n",
       "    <tr>\n",
       "      <th>13</th>\n",
       "      <td>Machine Learning</td>\n",
       "      <td>22</td>\n",
       "    </tr>\n",
       "    <tr>\n",
       "      <th>14</th>\n",
       "      <td>DATA SCIENTIST</td>\n",
       "      <td>21</td>\n",
       "    </tr>\n",
       "    <tr>\n",
       "      <th>15</th>\n",
       "      <td>COE Digital Analytics</td>\n",
       "      <td>20</td>\n",
       "    </tr>\n",
       "    <tr>\n",
       "      <th>16</th>\n",
       "      <td>Aspiring analytics/Data Science professional</td>\n",
       "      <td>20</td>\n",
       "    </tr>\n",
       "    <tr>\n",
       "      <th>17</th>\n",
       "      <td>Data Research Analyst Marketing</td>\n",
       "      <td>20</td>\n",
       "    </tr>\n",
       "    <tr>\n",
       "      <th>18</th>\n",
       "      <td>Product Manager</td>\n",
       "      <td>20</td>\n",
       "    </tr>\n",
       "    <tr>\n",
       "      <th>19</th>\n",
       "      <td>Consultant, Google Analytics</td>\n",
       "      <td>20</td>\n",
       "    </tr>\n",
       "  </tbody>\n",
       "</table>\n",
       "</div>"
      ],
      "text/plain": [
       "                                             title  count_titles\n",
       "0                                     Data Analyst           300\n",
       "1                                   Data Scientist           203\n",
       "2                  Project Lead Big Data Analytics            37\n",
       "3          Business Development (Sales) Internship            35\n",
       "4               Project Manager Big Data Analytics            35\n",
       "5                         Senior Software Engineer            35\n",
       "6   Principal Consultant - Application Development            34\n",
       "7                STATISTICAL PROGRAMMER (ADAM/TLF)            32\n",
       "8                               Database Architect            28\n",
       "9                            Senior Data Scientist            26\n",
       "10                                   Data Engineer            24\n",
       "11                  Associate Consultant Analytics            24\n",
       "12                             Manager - Analytics            23\n",
       "13                                Machine Learning            22\n",
       "14                                  DATA SCIENTIST            21\n",
       "15                           COE Digital Analytics            20\n",
       "16    Aspiring analytics/Data Science professional            20\n",
       "17                 Data Research Analyst Marketing            20\n",
       "18                                 Product Manager            20\n",
       "19                    Consultant, Google Analytics            20"
      ]
     },
     "execution_count": 56,
     "metadata": {},
     "output_type": "execute_result"
    }
   ],
   "source": [
    "#Top 20 titles under the datascintist indeed category\n",
    "\n",
    "company_title = Counter(jobs0.title)\n",
    "\n",
    "Top_titles = pd.DataFrame.from_dict(company_title,  orient='index').reset_index()\n",
    "Top_titles = Top_titles.rename(columns={'index': 'title', 0:'count_titles'})\n",
    "\n",
    "Top_titles['count_titles'] = Top_titles['count_titles'].astype('int')\n",
    "Top_titles['title'] = Top_titles['title'].astype('str')\n",
    "\n",
    "print(Top_titles.dtypes)\n",
    "\n",
    "#sorting dataframe\n",
    "df_title = Top_titles.sort_values(by='count_titles', axis=0, ascending=False).reset_index(drop = True)\n",
    "df_title.head()\n",
    "\n",
    "df_title[:20]"
   ]
  },
  {
   "cell_type": "markdown",
   "metadata": {},
   "source": [
    "<b>Salary Information</b>"
   ]
  },
  {
   "cell_type": "markdown",
   "metadata": {},
   "source": [
    "cleaning salary data"
   ]
  },
  {
   "cell_type": "code",
   "execution_count": 60,
   "metadata": {},
   "outputs": [],
   "source": [
    "salaries = df_result[df_result.salary.notnull()]"
   ]
  },
  {
   "cell_type": "code",
   "execution_count": 61,
   "metadata": {},
   "outputs": [
    {
     "data": {
      "text/plain": [
       "(659, 5)"
      ]
     },
     "execution_count": 61,
     "metadata": {},
     "output_type": "execute_result"
    }
   ],
   "source": [
    "salaries.shape"
   ]
  },
  {
   "cell_type": "code",
   "execution_count": 64,
   "metadata": {},
   "outputs": [
    {
     "data": {
      "text/html": [
       "<div>\n",
       "<style scoped>\n",
       "    .dataframe tbody tr th:only-of-type {\n",
       "        vertical-align: middle;\n",
       "    }\n",
       "\n",
       "    .dataframe tbody tr th {\n",
       "        vertical-align: top;\n",
       "    }\n",
       "\n",
       "    .dataframe thead th {\n",
       "        text-align: right;\n",
       "    }\n",
       "</style>\n",
       "<table border=\"1\" class=\"dataframe\">\n",
       "  <thead>\n",
       "    <tr style=\"text-align: right;\">\n",
       "      <th></th>\n",
       "      <th>location</th>\n",
       "      <th>title</th>\n",
       "      <th>company</th>\n",
       "      <th>salary</th>\n",
       "      <th>summary</th>\n",
       "    </tr>\n",
       "  </thead>\n",
       "  <tbody>\n",
       "    <tr>\n",
       "      <th>0</th>\n",
       "      <td>Bengaluru, Karnataka</td>\n",
       "      <td>Data Scientist</td>\n",
       "      <td>Tricog Health Services Private Limited</td>\n",
       "      <td>₹6,00,000 - ₹18,00,000 a year</td>\n",
       "      <td>We're currently looking for people...</td>\n",
       "    </tr>\n",
       "    <tr>\n",
       "      <th>3</th>\n",
       "      <td>Bengaluru, Karnataka</td>\n",
       "      <td>Data Scientist</td>\n",
       "      <td>Innohabit Technologies Pvt. Ltd</td>\n",
       "      <td>₹3,00,000 - ₹4,50,000 a year</td>\n",
       "      <td>Experience in Machine Learning / D...</td>\n",
       "    </tr>\n",
       "    <tr>\n",
       "      <th>4</th>\n",
       "      <td>Bengaluru, Karnataka</td>\n",
       "      <td>Data Scientist</td>\n",
       "      <td>StraVis IT Solutions Pvt. Ltd.</td>\n",
       "      <td>₹4,00,000 - ₹9,00,000 a year</td>\n",
       "      <td>We are looking for candidates who ...</td>\n",
       "    </tr>\n",
       "    <tr>\n",
       "      <th>6</th>\n",
       "      <td>Ulsoor, Bengaluru, Karnataka</td>\n",
       "      <td>Data Analyst- programming (Python or Ruby) / S...</td>\n",
       "      <td>Rainbow Jobs Services</td>\n",
       "      <td>₹70,000 - ₹85,000 a month</td>\n",
       "      <td>Gathering data from various source...</td>\n",
       "    </tr>\n",
       "    <tr>\n",
       "      <th>15</th>\n",
       "      <td>Bengaluru, Karnataka</td>\n",
       "      <td>Data Mining Intern</td>\n",
       "      <td>Valuechain Pvt Ltd</td>\n",
       "      <td>₹10,000 - ₹15,000 a month</td>\n",
       "      <td>Working with Data Scientist in sup...</td>\n",
       "    </tr>\n",
       "  </tbody>\n",
       "</table>\n",
       "</div>"
      ],
      "text/plain": [
       "                        location  \\\n",
       "0           Bengaluru, Karnataka   \n",
       "3           Bengaluru, Karnataka   \n",
       "4           Bengaluru, Karnataka   \n",
       "6   Ulsoor, Bengaluru, Karnataka   \n",
       "15          Bengaluru, Karnataka   \n",
       "\n",
       "                                                title  \\\n",
       "0                                      Data Scientist   \n",
       "3                                      Data Scientist   \n",
       "4                                      Data Scientist   \n",
       "6   Data Analyst- programming (Python or Ruby) / S...   \n",
       "15                                 Data Mining Intern   \n",
       "\n",
       "                                       company  \\\n",
       "0       Tricog Health Services Private Limited   \n",
       "3              Innohabit Technologies Pvt. Ltd   \n",
       "4               StraVis IT Solutions Pvt. Ltd.   \n",
       "6                        Rainbow Jobs Services   \n",
       "15                          Valuechain Pvt Ltd   \n",
       "\n",
       "                                           salary  \\\n",
       "0                   ₹6,00,000 - ₹18,00,000 a year   \n",
       "3                    ₹3,00,000 - ₹4,50,000 a year   \n",
       "4                    ₹4,00,000 - ₹9,00,000 a year   \n",
       "6                       ₹70,000 - ₹85,000 a month   \n",
       "15                      ₹10,000 - ₹15,000 a month   \n",
       "\n",
       "                                              summary  \n",
       "0               We're currently looking for people...  \n",
       "3               Experience in Machine Learning / D...  \n",
       "4               We are looking for candidates who ...  \n",
       "6               Gathering data from various source...  \n",
       "15              Working with Data Scientist in sup...  "
      ]
     },
     "execution_count": 64,
     "metadata": {},
     "output_type": "execute_result"
    }
   ],
   "source": [
    "salaries.head()"
   ]
  },
  {
   "cell_type": "code",
   "execution_count": 65,
   "metadata": {},
   "outputs": [],
   "source": [
    "\n",
    "salaries = salaries[(~salaries.salary.str.contains('an hour')) & (~salaries.salary.str.contains('a month'))\n",
    "                   & (~salaries.salary.str.contains('a week')) & (~salaries.salary.str.contains('a day'))]\n",
    "\n",
    "\n",
    "salaries.salary = salaries.salary.str.replace('a year', '').str.replace(',', '').str.replace('₹', '')"
   ]
  },
  {
   "cell_type": "code",
   "execution_count": 66,
   "metadata": {},
   "outputs": [
    {
     "data": {
      "text/html": [
       "<div>\n",
       "<style scoped>\n",
       "    .dataframe tbody tr th:only-of-type {\n",
       "        vertical-align: middle;\n",
       "    }\n",
       "\n",
       "    .dataframe tbody tr th {\n",
       "        vertical-align: top;\n",
       "    }\n",
       "\n",
       "    .dataframe thead th {\n",
       "        text-align: right;\n",
       "    }\n",
       "</style>\n",
       "<table border=\"1\" class=\"dataframe\">\n",
       "  <thead>\n",
       "    <tr style=\"text-align: right;\">\n",
       "      <th></th>\n",
       "      <th>location</th>\n",
       "      <th>title</th>\n",
       "      <th>company</th>\n",
       "      <th>salary</th>\n",
       "      <th>summary</th>\n",
       "    </tr>\n",
       "  </thead>\n",
       "  <tbody>\n",
       "    <tr>\n",
       "      <th>0</th>\n",
       "      <td>Bengaluru, Karnataka</td>\n",
       "      <td>Data Scientist</td>\n",
       "      <td>Tricog Health Services Private Limited</td>\n",
       "      <td>600000 - 1800000</td>\n",
       "      <td>We're currently looking for people...</td>\n",
       "    </tr>\n",
       "    <tr>\n",
       "      <th>3</th>\n",
       "      <td>Bengaluru, Karnataka</td>\n",
       "      <td>Data Scientist</td>\n",
       "      <td>Innohabit Technologies Pvt. Ltd</td>\n",
       "      <td>300000 - 450000</td>\n",
       "      <td>Experience in Machine Learning / D...</td>\n",
       "    </tr>\n",
       "    <tr>\n",
       "      <th>4</th>\n",
       "      <td>Bengaluru, Karnataka</td>\n",
       "      <td>Data Scientist</td>\n",
       "      <td>StraVis IT Solutions Pvt. Ltd.</td>\n",
       "      <td>400000 - 900000</td>\n",
       "      <td>We are looking for candidates who ...</td>\n",
       "    </tr>\n",
       "    <tr>\n",
       "      <th>89</th>\n",
       "      <td>Bengaluru, Karnataka</td>\n",
       "      <td>Machine Learning Engineer</td>\n",
       "      <td>AIMonk Labs Private Ltd</td>\n",
       "      <td>400000 - 600000</td>\n",
       "      <td>&gt; From data preprocessing to train...</td>\n",
       "    </tr>\n",
       "    <tr>\n",
       "      <th>118</th>\n",
       "      <td>Bengaluru, Karnataka</td>\n",
       "      <td>Data Analyst</td>\n",
       "      <td>marketindia</td>\n",
       "      <td>250000 - 300000</td>\n",
       "      <td>Monitor and audit data quality. Cr...</td>\n",
       "    </tr>\n",
       "  </tbody>\n",
       "</table>\n",
       "</div>"
      ],
      "text/plain": [
       "                 location                      title  \\\n",
       "0    Bengaluru, Karnataka             Data Scientist   \n",
       "3    Bengaluru, Karnataka             Data Scientist   \n",
       "4    Bengaluru, Karnataka             Data Scientist   \n",
       "89   Bengaluru, Karnataka  Machine Learning Engineer   \n",
       "118  Bengaluru, Karnataka               Data Analyst   \n",
       "\n",
       "                                        company  \\\n",
       "0        Tricog Health Services Private Limited   \n",
       "3               Innohabit Technologies Pvt. Ltd   \n",
       "4                StraVis IT Solutions Pvt. Ltd.   \n",
       "89                      AIMonk Labs Private Ltd   \n",
       "118                                 marketindia   \n",
       "\n",
       "                                salary  \\\n",
       "0                    600000 - 1800000    \n",
       "3                     300000 - 450000    \n",
       "4                     400000 - 900000    \n",
       "89                    400000 - 600000    \n",
       "118                   250000 - 300000    \n",
       "\n",
       "                                               summary  \n",
       "0                We're currently looking for people...  \n",
       "3                Experience in Machine Learning / D...  \n",
       "4                We are looking for candidates who ...  \n",
       "89               > From data preprocessing to train...  \n",
       "118              Monitor and audit data quality. Cr...  "
      ]
     },
     "execution_count": 66,
     "metadata": {},
     "output_type": "execute_result"
    }
   ],
   "source": [
    "salaries.head()"
   ]
  },
  {
   "cell_type": "markdown",
   "metadata": {},
   "source": [
    "<b>Turn salary ranges to an average and convert that into floats</b>"
   ]
  },
  {
   "cell_type": "code",
   "execution_count": 67,
   "metadata": {},
   "outputs": [],
   "source": [
    "for i in salaries.salary:\n",
    "    if len(i.split('-')) != 1 and len(i.split('-')) != 2:\n",
    "        print (i)"
   ]
  },
  {
   "cell_type": "code",
   "execution_count": 68,
   "metadata": {},
   "outputs": [],
   "source": [
    "new_salaries = []\n",
    "for i in salaries.salary:\n",
    "    a = i.split('-')\n",
    "    if len(a) == 2:\n",
    "        new_salaries.append(np.mean([float(b) for b in a]))\n",
    "    else:\n",
    "        new_salaries.append(float(a[0]))"
   ]
  },
  {
   "cell_type": "code",
   "execution_count": 69,
   "metadata": {},
   "outputs": [
    {
     "data": {
      "text/plain": [
       "[1200000.0, 375000.0, 650000.0, 500000.0, 275000.0]"
      ]
     },
     "execution_count": 69,
     "metadata": {},
     "output_type": "execute_result"
    }
   ],
   "source": [
    "new_salaries[0:5]"
   ]
  },
  {
   "cell_type": "code",
   "execution_count": 70,
   "metadata": {},
   "outputs": [],
   "source": [
    "salaries.salary = new_salaries"
   ]
  },
  {
   "cell_type": "code",
   "execution_count": 71,
   "metadata": {},
   "outputs": [
    {
     "data": {
      "text/plain": [
       "(376, 5)"
      ]
     },
     "execution_count": 71,
     "metadata": {},
     "output_type": "execute_result"
    }
   ],
   "source": [
    "salaries.shape"
   ]
  },
  {
   "cell_type": "code",
   "execution_count": 72,
   "metadata": {},
   "outputs": [
    {
     "data": {
      "text/plain": [
       "299"
      ]
     },
     "execution_count": 72,
     "metadata": {},
     "output_type": "execute_result"
    }
   ],
   "source": [
    "salaries.duplicated().sum()"
   ]
  },
  {
   "cell_type": "code",
   "execution_count": 73,
   "metadata": {},
   "outputs": [
    {
     "data": {
      "text/html": [
       "<div>\n",
       "<style scoped>\n",
       "    .dataframe tbody tr th:only-of-type {\n",
       "        vertical-align: middle;\n",
       "    }\n",
       "\n",
       "    .dataframe tbody tr th {\n",
       "        vertical-align: top;\n",
       "    }\n",
       "\n",
       "    .dataframe thead th {\n",
       "        text-align: right;\n",
       "    }\n",
       "</style>\n",
       "<table border=\"1\" class=\"dataframe\">\n",
       "  <thead>\n",
       "    <tr style=\"text-align: right;\">\n",
       "      <th></th>\n",
       "      <th>location</th>\n",
       "      <th>title</th>\n",
       "      <th>company</th>\n",
       "      <th>salary</th>\n",
       "      <th>summary</th>\n",
       "    </tr>\n",
       "  </thead>\n",
       "  <tbody>\n",
       "    <tr>\n",
       "      <th>0</th>\n",
       "      <td>Bengaluru, Karnataka</td>\n",
       "      <td>Data Scientist</td>\n",
       "      <td>Tricog Health Services Private Limited</td>\n",
       "      <td>1200000.0</td>\n",
       "      <td>We're currently looking for people...</td>\n",
       "    </tr>\n",
       "    <tr>\n",
       "      <th>3</th>\n",
       "      <td>Bengaluru, Karnataka</td>\n",
       "      <td>Data Scientist</td>\n",
       "      <td>Innohabit Technologies Pvt. Ltd</td>\n",
       "      <td>375000.0</td>\n",
       "      <td>Experience in Machine Learning / D...</td>\n",
       "    </tr>\n",
       "    <tr>\n",
       "      <th>4</th>\n",
       "      <td>Bengaluru, Karnataka</td>\n",
       "      <td>Data Scientist</td>\n",
       "      <td>StraVis IT Solutions Pvt. Ltd.</td>\n",
       "      <td>650000.0</td>\n",
       "      <td>We are looking for candidates who ...</td>\n",
       "    </tr>\n",
       "    <tr>\n",
       "      <th>89</th>\n",
       "      <td>Bengaluru, Karnataka</td>\n",
       "      <td>Machine Learning Engineer</td>\n",
       "      <td>AIMonk Labs Private Ltd</td>\n",
       "      <td>500000.0</td>\n",
       "      <td>&gt; From data preprocessing to train...</td>\n",
       "    </tr>\n",
       "    <tr>\n",
       "      <th>118</th>\n",
       "      <td>Bengaluru, Karnataka</td>\n",
       "      <td>Data Analyst</td>\n",
       "      <td>marketindia</td>\n",
       "      <td>275000.0</td>\n",
       "      <td>Monitor and audit data quality. Cr...</td>\n",
       "    </tr>\n",
       "  </tbody>\n",
       "</table>\n",
       "</div>"
      ],
      "text/plain": [
       "                 location                      title  \\\n",
       "0    Bengaluru, Karnataka             Data Scientist   \n",
       "3    Bengaluru, Karnataka             Data Scientist   \n",
       "4    Bengaluru, Karnataka             Data Scientist   \n",
       "89   Bengaluru, Karnataka  Machine Learning Engineer   \n",
       "118  Bengaluru, Karnataka               Data Analyst   \n",
       "\n",
       "                                        company     salary  \\\n",
       "0        Tricog Health Services Private Limited  1200000.0   \n",
       "3               Innohabit Technologies Pvt. Ltd   375000.0   \n",
       "4                StraVis IT Solutions Pvt. Ltd.   650000.0   \n",
       "89                      AIMonk Labs Private Ltd   500000.0   \n",
       "118                                 marketindia   275000.0   \n",
       "\n",
       "                                               summary  \n",
       "0                We're currently looking for people...  \n",
       "3                Experience in Machine Learning / D...  \n",
       "4                We are looking for candidates who ...  \n",
       "89               > From data preprocessing to train...  \n",
       "118              Monitor and audit data quality. Cr...  "
      ]
     },
     "execution_count": 73,
     "metadata": {},
     "output_type": "execute_result"
    }
   ],
   "source": [
    "salaries.head()"
   ]
  },
  {
   "cell_type": "markdown",
   "metadata": {},
   "source": [
    "<b>Univariate Analysis</b>"
   ]
  },
  {
   "cell_type": "code",
   "execution_count": 80,
   "metadata": {},
   "outputs": [],
   "source": [
    "company_salary = round(salaries['salary'], 1)"
   ]
  },
  {
   "cell_type": "markdown",
   "metadata": {},
   "source": [
    "<b>Median Salary</b>"
   ]
  },
  {
   "cell_type": "code",
   "execution_count": 83,
   "metadata": {},
   "outputs": [
    {
     "data": {
      "text/plain": [
       "500000.0"
      ]
     },
     "execution_count": 83,
     "metadata": {},
     "output_type": "execute_result"
    }
   ],
   "source": [
    "company_salary.median()"
   ]
  },
  {
   "cell_type": "markdown",
   "metadata": {},
   "source": [
    "5LPA is the Average CTC for Data Scientist"
   ]
  },
  {
   "cell_type": "markdown",
   "metadata": {},
   "source": [
    "<b>Mean Salary</b>"
   ]
  },
  {
   "cell_type": "code",
   "execution_count": 86,
   "metadata": {},
   "outputs": [
    {
     "data": {
      "text/plain": [
       "710884.3"
      ]
     },
     "execution_count": 86,
     "metadata": {},
     "output_type": "execute_result"
    }
   ],
   "source": [
    "round(company_salary.mean(), 1)"
   ]
  },
  {
   "cell_type": "markdown",
   "metadata": {},
   "source": [
    "<b>Salary Distribution</b>"
   ]
  },
  {
   "cell_type": "code",
   "execution_count": 197,
   "metadata": {},
   "outputs": [
    {
     "data": {
      "image/png": "[encoded data removed]",
      "text/plain": [
       "<matplotlib.figure.Figure at 0x1a24d3d978>"
      ]
     },
     "metadata": {},
     "output_type": "display_data"
    }
   ],
   "source": [
    "import matplotlib.pyplot as plot\n",
    "\n",
    "salary_bx_plot = plot.boxplot(company_salary)\n",
    "plt.title(\"Salary Distribution\")\n",
    "plt.show()"
   ]
  },
  {
   "cell_type": "markdown",
   "metadata": {},
   "source": [
    "Most of the cases salary range is betweeb 2.5 to 10LPA CTC with the higest CTC of 17.5LPA"
   ]
  },
  {
   "cell_type": "markdown",
   "metadata": {},
   "source": [
    "<b>Average Salary by Cities</b>"
   ]
  },
  {
   "cell_type": "code",
   "execution_count": 184,
   "metadata": {},
   "outputs": [],
   "source": [
    "salary_city = salaries[['location', 'salary']]"
   ]
  },
  {
   "cell_type": "code",
   "execution_count": 185,
   "metadata": {},
   "outputs": [
    {
     "name": "stdout",
     "output_type": "stream",
     "text": [
      "0      Bengaluru\n",
      "3      Bengaluru\n",
      "4      Bengaluru\n",
      "89     Bengaluru\n",
      "118    Bengaluru\n",
      "119    Bengaluru\n",
      "127    Bengaluru\n",
      "188    Bengaluru\n",
      "209    Bengaluru\n",
      "217    Bengaluru\n",
      "Name: location, dtype: object\n"
     ]
    }
   ],
   "source": [
    "#Normalizing cities\n",
    "x = salary_city['location']\n",
    "\n",
    "#Replacing cities list\n",
    "norm_cities = x.replace(['Bengaluru, Karnataka',\n",
    "                        'Borivali, Mumbai, Maharashtra',\n",
    "                        'Mumbai, Maharashtra',\n",
    "                        'Navi Mumbai, Maharashtra',\n",
    "                        'Chennai, Tamil Nadu',\n",
    "                        'Delhi, Delhi',\n",
    "                        'New Delhi, Delhi',\n",
    "                        'Gachibowli, Hyderabad, Telangana',\n",
    "                        'Hyderabad, Telangana',\n",
    "                        'Pune, Maharashtra', \n",
    "                        'Saket, Delhi', \n",
    "                        'Usman Road, Tamil Nadu'], ['Bengaluru', 'Mumbai', \n",
    "                                              'Mumbai', 'Mumbai', \n",
    "                                              'Chennai', 'Delhi',\n",
    "                                              'Delhi', 'Hyderabad', 'Hyderabad',\n",
    "                                              'Pune', 'Delhi', 'Chennai'] )\n",
    "print(norm_cities[:10])"
   ]
  },
  {
   "cell_type": "code",
   "execution_count": 189,
   "metadata": {},
   "outputs": [
    {
     "name": "stderr",
     "output_type": "stream",
     "text": [
      "/Users/afnity_computer/anaconda3/lib/python3.5/site-packages/ipykernel_launcher.py:1: SettingWithCopyWarning: \n",
      "A value is trying to be set on a copy of a slice from a DataFrame.\n",
      "Try using .loc[row_indexer,col_indexer] = value instead\n",
      "\n",
      "See the caveats in the documentation: http://pandas.pydata.org/pandas-docs/stable/indexing.html#indexing-view-versus-copy\n",
      "  \"\"\"Entry point for launching an IPython kernel.\n"
     ]
    },
    {
     "data": {
      "text/html": [
       "<div>\n",
       "<style scoped>\n",
       "    .dataframe tbody tr th:only-of-type {\n",
       "        vertical-align: middle;\n",
       "    }\n",
       "\n",
       "    .dataframe tbody tr th {\n",
       "        vertical-align: top;\n",
       "    }\n",
       "\n",
       "    .dataframe thead th {\n",
       "        text-align: right;\n",
       "    }\n",
       "</style>\n",
       "<table border=\"1\" class=\"dataframe\">\n",
       "  <thead>\n",
       "    <tr style=\"text-align: right;\">\n",
       "      <th></th>\n",
       "      <th>location</th>\n",
       "      <th>salary</th>\n",
       "    </tr>\n",
       "  </thead>\n",
       "  <tbody>\n",
       "    <tr>\n",
       "      <th>0</th>\n",
       "      <td>Bengaluru</td>\n",
       "      <td>1200000.0</td>\n",
       "    </tr>\n",
       "    <tr>\n",
       "      <th>3</th>\n",
       "      <td>Bengaluru</td>\n",
       "      <td>375000.0</td>\n",
       "    </tr>\n",
       "    <tr>\n",
       "      <th>4</th>\n",
       "      <td>Bengaluru</td>\n",
       "      <td>650000.0</td>\n",
       "    </tr>\n",
       "    <tr>\n",
       "      <th>89</th>\n",
       "      <td>Bengaluru</td>\n",
       "      <td>500000.0</td>\n",
       "    </tr>\n",
       "    <tr>\n",
       "      <th>118</th>\n",
       "      <td>Bengaluru</td>\n",
       "      <td>275000.0</td>\n",
       "    </tr>\n",
       "    <tr>\n",
       "      <th>119</th>\n",
       "      <td>Bengaluru</td>\n",
       "      <td>600000.0</td>\n",
       "    </tr>\n",
       "    <tr>\n",
       "      <th>127</th>\n",
       "      <td>Bengaluru</td>\n",
       "      <td>800000.0</td>\n",
       "    </tr>\n",
       "    <tr>\n",
       "      <th>188</th>\n",
       "      <td>Bengaluru</td>\n",
       "      <td>287500.0</td>\n",
       "    </tr>\n",
       "    <tr>\n",
       "      <th>209</th>\n",
       "      <td>Bengaluru</td>\n",
       "      <td>100000.0</td>\n",
       "    </tr>\n",
       "    <tr>\n",
       "      <th>217</th>\n",
       "      <td>Bengaluru</td>\n",
       "      <td>800000.0</td>\n",
       "    </tr>\n",
       "  </tbody>\n",
       "</table>\n",
       "</div>"
      ],
      "text/plain": [
       "      location     salary\n",
       "0    Bengaluru  1200000.0\n",
       "3    Bengaluru   375000.0\n",
       "4    Bengaluru   650000.0\n",
       "89   Bengaluru   500000.0\n",
       "118  Bengaluru   275000.0\n",
       "119  Bengaluru   600000.0\n",
       "127  Bengaluru   800000.0\n",
       "188  Bengaluru   287500.0\n",
       "209  Bengaluru   100000.0\n",
       "217  Bengaluru   800000.0"
      ]
     },
     "execution_count": 189,
     "metadata": {},
     "output_type": "execute_result"
    }
   ],
   "source": [
    "salary_city['location'] = norm_cities\n",
    "salary_city[:10]"
   ]
  },
  {
   "cell_type": "code",
   "execution_count": 190,
   "metadata": {},
   "outputs": [
    {
     "data": {
      "text/plain": [
       "location\n",
       "Bengaluru    7.595179e+05\n",
       "Chennai      8.354870e+05\n",
       "Delhi        3.194560e+05\n",
       "Hyderabad    1.014941e+06\n",
       "Mumbai       7.201282e+05\n",
       "Pune         1.709091e+05\n",
       "Name: salary, dtype: float64"
      ]
     },
     "execution_count": 190,
     "metadata": {},
     "output_type": "execute_result"
    }
   ],
   "source": [
    "salary_city_mean = salary_city.groupby(['location'])['salary'].mean()\n",
    "#round(salary_city_mean['salary'], 1)\n",
    "salary_city_mean[:10]"
   ]
  },
  {
   "cell_type": "code",
   "execution_count": 199,
   "metadata": {},
   "outputs": [
    {
     "data": {
      "text/plain": [
       "location\n",
       "Bengaluru     759518.0\n",
       "Chennai       835487.0\n",
       "Delhi         319456.0\n",
       "Hyderabad    1014941.0\n",
       "Mumbai        720128.0\n",
       "Pune          170909.0\n",
       "Name: salary, dtype: float64"
      ]
     },
     "execution_count": 199,
     "metadata": {},
     "output_type": "execute_result"
    }
   ],
   "source": [
    "salary_city_mean = salary_city.pivot_table(index=\"location\", values='salary', aggfunc=np.mean)\n",
    "\n",
    "#Converting Float Values\n",
    "salary_city_mean_1 = round(salary_city_mean['salary'], 0)\n",
    "salary_city_mean_1"
   ]
  },
  {
   "cell_type": "code",
   "execution_count": 200,
   "metadata": {},
   "outputs": [
    {
     "data": {
      "image/png": "[encoded data removed]",
      "text/plain": [
       "<matplotlib.figure.Figure at 0x1a24c27828>"
      ]
     },
     "metadata": {},
     "output_type": "display_data"
    }
   ],
   "source": [
    "#Displaying output in bar chart\n",
    "salary_city_mean_1.plot.bar(title=\"Mean salary of Data Scientist by City\")\n",
    "plt.show()"
   ]
  }
 ],
 "metadata": {
  "kernelspec": {
   "display_name": "Python 3",
   "language": "python",
   "name": "python3"
  },
  "language_info": {
   "codemirror_mode": {
    "name": "ipython",
    "version": 3
   },
   "file_extension": ".py",
   "mimetype": "text/x-python",
   "name": "python",
   "nbconvert_exporter": "python",
   "pygments_lexer": "ipython3",
   "version": "3.5.4"
  }
 },
 "nbformat": 4,
 "nbformat_minor": 2
}
